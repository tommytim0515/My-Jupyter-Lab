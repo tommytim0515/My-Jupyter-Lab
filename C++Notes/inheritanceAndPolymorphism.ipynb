{
 "cells": [
  {
   "cell_type": "markdown",
   "metadata": {},
   "source": [
    "## Inheritance\n",
    "<font color='red'>Inheritance</font> is the ability to define a new class based on an existing calss with a <font color='red'>hierarchy</font>.<br/>\n",
    "The <font color='red'>derived class</font> inherits data members functions of the <font color='red'>base class</font>.<br/>\n",
    "New members and functions are added to the <font color='red'>derived class</font>.<br/>\n",
    "The new class only has to implement the behaviour that is extra to the <font color='red'>base class</font>, and the code of the <font color='red'>base class</font> can be re-used in the <font color='red'>derived classes</font>.\n"
   ]
  },
  {
   "cell_type": "markdown",
   "metadata": {},
   "source": [
    "## Polymorphic or Liskov Substitution Principle\n",
    "<font color='red'>Inheritance</font> implements the <font color='red'>is-a relationship</font>. In general, an object of the <font color='red'>derived class</font> can be treated like an object of the <font color='red'>base class</font> under all circumstances.<br/>\n",
    "If class D (a derived class) inherits from class B (the base class):\n",
    "- Every D object is also a B object, but not vice-versa.\n",
    "- B is a more general concept; D is a more special concept.\n",
    "- Where  a B object is needed, an D object can be used instead."
   ]
  },
  {
   "cell_type": "markdown",
   "metadata": {},
   "source": [
    "## Extending Class Hierarchy\n",
    "New classes can immediately benefit from all functions that are available to their <font color='red'>base class</font>.<br/>\n",
    "In fact, it is not even neccsary to recomplie the existing code: It is enough to link the new class with the object codes for base class.<br/>\n",
    "Advanced use: Link in new objects while the code is running."
   ]
  },
  {
   "cell_type": "markdown",
   "metadata": {},
   "source": [
    "## Initialization of Base class Objects\n",
    "If class C is derived from class B which is in turn derived from class A, then C will contain data members of both B and A.<br/>\n",
    "Class C's constructor can only call class B's constructor, and class B's constructor can only call class A's constructor.<br/>\n",
    "It is the responsibility of each <font color='red'>derived class</font> to initialize its <font color='red'>direct base class</font> correctly."
   ]
  },
  {
   "cell_type": "markdown",
   "metadata": {},
   "source": [
    "## Abstract Base Class (ABC)\n",
    "An ABC has two proterties:\n",
    "1. No ojbects of ABC can be created.\n",
    "2. Its derived classes must implement the <font color='red'>pure virtual functions</font>, otherwise they will also be ABC's.\n",
    "If a derived class does not implement the <font color='red'>pure virtual functions</font>, then\n",
    "- the derived class is also an <font color='red'>ABC</font>,\n",
    "- and there cannot be object of that type,\n",
    "- but it can be used as a base class itself"
   ]
  },
  {
   "cell_type": "markdown",
   "metadata": {},
   "source": [
    "## Interface re-use\n",
    "ABC as an interface: an abstract base class provides a uniform interface to deal with a number ofdifferent derived classes.<br/>\n",
    "A base class contains what is common about several classes.<br/>\n",
    "If the only thing taht is common is the <font color='red'>interface</font>, then the base class is a \"<font color='red'>pure interface</font>\", called ABC in C++.<br/>\n",
    "For ABC's we do not re-use code, but create an <font color='red'>interface</font> that can be re-used by its derived classes.<br/>\n",
    "The user only knows about the <font color='red'>abstract interface</font>, object from different derived classes of the ABC may implement the <font color='red'>interface</font> in different ways.<br/>"
   ]
  },
  {
   "cell_type": "markdown",
   "metadata": {},
   "source": [
    "## Final Remarks on ABC\n",
    "A <font color='red'>pure virtual function</font> is inherited as a <font color='red'>pure virtual function</font> by a derived class unless it implements the function.<br/>\n",
    "An <font color='red'>abstract base class</font> cannot be used\n",
    "- as an argument type that is passed by value\n",
    "- as a function return type that is returned by value\n",
    "- as the type of an explicit conversion\n",
    "However, pointers and references to an ABC can be  declared.<br/>\n",
    "Calling a <font color='red'>pure virtual function</font> from the constructor of an ABC is undefined--don't do that."
   ]
  },
  {
   "cell_type": "markdown",
   "metadata": {},
   "source": [
    "## Different Types of Inheritances\n",
    "There are two other kinds of inheritance: <font color='red'>protected</font> and <font color='red'>private inheritance</font>.<br/>\n",
    "They control how the inherited members of Student are accessed by Student's derived classes."
   ]
  },
  {
   "cell_type": "markdown",
   "metadata": {},
   "source": [
    "## Inheritance: Summary\n",
    "1. <font color='red'>Public inheritance</font> perserve the orginal accessibility of inherited members:<br/>public -> public<br/>protected -> protected<br/>private -> private\n",
    "2. <font color='red'>Protected inheritance</font> affects only public members and renders them protected.<br/>public -> protected<br/>protected -> protected<br/>private -> private\n",
    "3. <font color='red'>Private inheritance</font> renders all inherited members private.<br/>public -> private<br/>protected -> private<br/>private -> private<br/>\n",
    "\n",
    "The various types of inheritance control the highest accessibility of the <font color='red'>inherited member</font> data ad functions.<br/>\n",
    "<font color='red'>Public inheritance</font> implements the \"is-a\" relationship.<br/>\n",
    "<font color='red'>Private inheritance</font> is similar to \"has-a\" relationship.<br/>\n",
    "<font color='red'>Public inheritance</font> is the most common form of inheritance.<br/>\n",
    "<font color='red'>Private</font> and <font color='red'>protected inheritance</font> do not allow casting of objects of derived classes back to the base class."
   ]
  },
  {
   "cell_type": "markdown",
   "metadata": {},
   "source": []
  }
 ],
 "metadata": {
  "kernelspec": {
   "display_name": "C++14",
   "language": "C++14",
   "name": "xcpp14"
  },
  "language_info": {
   "codemirror_mode": "text/x-c++src",
   "file_extension": ".cpp",
   "mimetype": "text/x-c++src",
   "name": "c++",
   "version": "-std=c++14"
  }
 },
 "nbformat": 4,
 "nbformat_minor": 4
}
