{
 "cells": [
  {
   "cell_type": "markdown",
   "metadata": {},
   "source": [
    "## Tree\n",
    "The linear access time of linked lists is prohibitive for large amount of data.\n",
    "__Definition__: A <font color='red'>tree</font> T is a collection of  <font color='red'>nodes</font> connected by  <font color='red'>edges</font>."
   ]
  },
  {
   "cell_type": "markdown",
   "metadata": {},
   "source": [
    "## Tree Terminologies\n",
    "<font color='red'>Root</font>: the only node with no parent. <br/>\n",
    "<font color='red'>Parent</font> and <font color='red'>child</font>\n",
    "- every node except the root has exactly only 1 parent\n",
    "- a node can have zero or more children\n",
    "<font color='red'>Leaves</font>: nodes with no children <br/>\n",
    "<font color='red'>Siblings</font>: nodes with the same parent. <br/>\n",
    "<font color='red'>Path</font> from node n1 to nk: a sequence of nodes {n1, n2, ..., nk} such that ni is the parent of n(i+1) for 1 $ \\leq $ i $ \\leq $ k - 1.<br/>\n",
    "\n",
    "<font color='red'>Length of a path</font>: number of edges on the path<br/>\n",
    "<font color='red'>Depth of a node</font>: Length of the uniqure path fro mthe root to that node<br/>\n",
    "<font color='red'>Height of a node</font>: length of the longest path from that node to a leaf; all leaves are at height 0; height of the root; height of the deepest leaf<br/>\n",
    "<font color='red'>Ancestor</font> and <font color='red'>descendant</font>: If there is a path from n<sub>1</sub> to n<sub>2</sub><br/>\n",
    "- n<sub>1</sub> is an ancestor of n<sub>2</sub>\n",
    "- n<sub>2</sub> is a descendant of n<sub>1</sub>\n",
    "- if n<sub>1</sub> != n<sub>2</sub>, proper ancestor and proper des"
   ]
  },
  {
   "cell_type": "markdown",
   "metadata": {},
   "source": [
    "## Binary Trees\n",
    "Generic <font color='red'>binary tree</font>: A tree in which no node can have more that two children.<br/>\n",
    "The height of an 'average' <font color='red'>binary tree</font> with N nodes is considerably smaller N.<br/>\n",
    "In the best case, a well-balanced tree has a height of order of log N.<br/>\n",
    "But, in the worst case, the height can be as large as (N - 1)."
   ]
  },
  {
   "cell_type": "markdown",
   "metadata": {},
   "source": [
    "## A Tipical Implementation of Binary Tree ADT\n",
    "```C++\n",
    "#include <iostream>  /* File: btree.h */\n",
    "using namespace std;\n",
    "\n",
    "template <class T> class Btree_node\n",
    "{\n",
    "    public:\n",
    "        Btree_node(const T& x, Btree_node* L = 0, Btree_node* R = 0)\n",
    "            : data(x), left(L), right(R) {}\n",
    "    \n",
    "        ~Btree_node()\n",
    "        {\n",
    "            delete left; delete right;\n",
    "            cout << \"delete the node with data = \" << data << endl;\n",
    "        }\n",
    "    \n",
    "        const T& get_data() const { return data; }\n",
    "        Btree_node* get_left() { return left; }\n",
    "        Btree_node* get_right() { return right; }\n",
    "        \n",
    "    private:\n",
    "        T data;\n",
    "        Btree_node* left;\n",
    "        Btree_node* right;\n",
    "};\n",
    "```"
   ]
  },
  {
   "cell_type": "markdown",
   "metadata": {},
   "source": [
    "## Binary Tree: Inorder Traversal\n",
    "```C++\n",
    "/* File: btree-inorder.cpp\n",
    " *\n",
    " * To traverse a binary tree in the order of:\n",
    " *    left subtree, node, right subtree\n",
    " * and do some action on each node during the traversal.\n",
    " */\n",
    "\n",
    "template <class T>\n",
    "void btree_inorder(BTree_node<T>* root,\n",
    "    void (*action) (Btree_node<T>* r)) // Expected a function on r->data\n",
    "{\n",
    "    if (root)\n",
    "    { \n",
    "        btree_inorder(root->get_left(), action);\n",
    "        action(root);\n",
    "        btree_inorder(root->get_right(), action);\n",
    "    }\n",
    "}\n",
    "```"
   ]
  },
  {
   "cell_type": "markdown",
   "metadata": {},
   "source": [
    "## Binary Tree: Preorder Traversal\n",
    "```C++\n",
    "/* File: btree-preorder.cpp\n",
    " * \n",
    " * To traverse a binary tree in tne order of:\n",
    " *    node, left subtree, right subtree\n",
    " * and do some action on each node during the traversal.\n",
    " */\n",
    "template <class T>\n",
    "void btree_preorder(Btree_node<T>* root,\n",
    "        void (*action) (Btree_node<T>* r)) // Expect a function on r->data\n",
    "{\n",
    "    if (root)\n",
    "    {\n",
    "        action(root);\n",
    "        btree_preorder(root->get_left(), action);\n",
    "        btree_preorder(root->get_right(), action);\n",
    "    }\n",
    "}\n",
    "```"
   ]
  },
  {
   "cell_type": "markdown",
   "metadata": {},
   "source": [
    "## Binary Tree: Postorder Traversal\n",
    "```C++\n",
    "/* File: btree-postorder.cpp\n",
    " * \n",
    " * To traverse a binary tree in tne order of:\n",
    " *    left subtree, right subtree, node\n",
    " * and do some action on each node during the traversal.\n",
    " */\n",
    "template <class T>\n",
    "void btree_preorder(Btree_node<T>* root,\n",
    "        void (*action) (Btree_node<T>* r)) // Expect a function on r->data\n",
    "{\n",
    "    if (root)\n",
    "    {\n",
    "        btree_preorder(root->get_left(), action);\n",
    "        btree_preorder(root->get_right(), action);\n",
    "        action(root); \n",
    "    }\n",
    "}\n",
    "```"
   ]
  },
  {
   "cell_type": "markdown",
   "metadata": {},
   "source": [
    "## Binary Search Tree\n",
    "## Properties of a Binary Search Tree\n",
    "<font color='red'>BST</font> is a data structure for efficient searching, insertion and deletion. <br/>\n",
    "<font color='red'>BST</font> property: For every node x:\n",
    "- All the keys in its left sub-tree are smaller than the key value in node x.\n",
    "- All the keys in its right sub-tree are larger thant the key value in node x."
   ]
  },
  {
   "cell_type": "markdown",
   "metadata": {},
   "source": [
    "## BSTs May Not be Unique\n",
    "The same set of values may be stored in different <font color='red'>BST</font>s.<br/>\n",
    "Average depth of a node on a BST is order of logN.<br/>\n",
    "Maximum depth of a node on a BST is order of N."
   ]
  },
  {
   "cell_type": "markdown",
   "metadata": {},
   "source": [
    "## BST Implementation\n",
    "```C++\n",
    "#ifndef BST_H\n",
    "#define BST_H\n",
    "#include <iostream>\n",
    "using namespace std;\n",
    "\n",
    "template <typename T>\n",
    "class BST {\n",
    "    private:\n",
    "        struct BSTNode {\n",
    "            T data;\n",
    "            BSTNode* left;\n",
    "            BSTNode* right;\n",
    "            BSTNode(const T& item, BSTNode* l = NULL, BSTNode r = NULL)\n",
    "                : data(item), left(l), right(r) {}\n",
    "        };\n",
    "    \n",
    "        typedef BSTNode* BSTNodePointer;\n",
    "        BSTNodePointer root;\n",
    "        \n",
    "        void copy(BSTNodePointer subTreeRoot);\n",
    "        void remove(BSTNodePointer subTreeRoot);\n",
    "        bool find(const T& item, BSTNodePointer& curPtr,\n",
    "                  BSTNodePointer& parent) const;\n",
    "        void printAux(int indent, BSTNodePointer subTreeRoot) const;\n",
    "    public:\n",
    "        BST() : root(NULL) {}\n",
    "        BST(const BST& bst) { root = NULL; copy(bst.root); } // Deep BST copy\n",
    "        ~BST() { remove(root); } // Remove all nodes in the tree\n",
    "        bool empty() const { return root == NULL; }\n",
    "        bool contains(const T& item) const;\n",
    "        void print() const;\n",
    "        const T& findMax() const; // Find the maximum value\n",
    "        const T& findMin() const; // Find the minimum value\n",
    "        void insert(const T& item); // Insert an item with a policy\n",
    "        void remove(const T& item); // Remove an item"
   ]
  },
  {
   "cell_type": "code",
   "execution_count": null,
   "metadata": {},
   "outputs": [],
   "source": []
  }
 ],
 "metadata": {
  "kernelspec": {
   "display_name": "C++14",
   "language": "C++14",
   "name": "xcpp14"
  },
  "language_info": {
   "codemirror_mode": "text/x-c++src",
   "file_extension": ".cpp",
   "mimetype": "text/x-c++src",
   "name": "c++",
   "version": "-std=c++14"
  }
 },
 "nbformat": 4,
 "nbformat_minor": 4
}
