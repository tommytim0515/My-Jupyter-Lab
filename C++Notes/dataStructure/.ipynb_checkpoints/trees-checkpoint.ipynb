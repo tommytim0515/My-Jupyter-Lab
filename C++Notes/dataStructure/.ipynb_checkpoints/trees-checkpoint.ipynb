{
 "cells": [
  {
   "cell_type": "markdown",
   "metadata": {},
   "source": [
    "## Tree\n",
    "The linear access time of linked lists is prohibitive for large amount of data.\n",
    "__Definition__: A <font color='red'>tree</font> T is a collection of  <font color='red'>nodes</font> connected by  <font color='red'>edges</font>."
   ]
  },
  {
   "cell_type": "markdown",
   "metadata": {},
   "source": [
    "## Tree Terminologies\n",
    "<font color='red'>Root</font>: the only node with no parent. <br/>\n",
    "<font color='red'>Parent</font> and <font color='red'>child</font>\n",
    "- every node except the root has exactly only 1 parent\n",
    "- a node can have zero or more children\n",
    "<font color='red'>Leaves</font>: nodes with no children <br/>\n",
    "<font color='red'>Siblings</font>: nodes with the same parent. <br/>\n",
    "<font color='red'>Path</font> from node n1 to nk: a sequence of nodes {n1, n2, ..., nk} such that ni is the parent of n(i+1) for 1 $ \\leq $ i $ \\leq $ k - 1.<br/>\n",
    "\n",
    "<font color='red'>Length of a path</font>: number of edges on the path<br/>\n",
    "<font color='red'>Depth of a node</font>: Length of the uniqure path fro mthe root to that node<br/>\n",
    "<font color='red'>Height of a node</font>: length of the longest path from that node to a leaf; all leaves are at height 0; height of the root; height of the deepest leaf<br/>\n",
    "<font color='red'>Ancestor</font> and <font color='red'>des</font>\n"
   ]
  },
  {
   "cell_type": "code",
   "execution_count": null,
   "metadata": {},
   "outputs": [],
   "source": []
  }
 ],
 "metadata": {
  "kernelspec": {
   "display_name": "C++14",
   "language": "C++14",
   "name": "xcpp14"
  },
  "language_info": {
   "codemirror_mode": "text/x-c++src",
   "file_extension": ".cpp",
   "mimetype": "text/x-c++src",
   "name": "c++",
   "version": "-std=c++14"
  }
 },
 "nbformat": 4,
 "nbformat_minor": 4
}
