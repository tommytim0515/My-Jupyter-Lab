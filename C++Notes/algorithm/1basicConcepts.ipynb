{
 "cells": [
  {
   "cell_type": "markdown",
   "metadata": {},
   "source": [
    "## Priori Analysis and Posteriori Testing\n",
    "### Priori Analysis\n",
    "> Algorithm<br/>\n",
    "> Independent of Language<br/>\n",
    "> Hardware Independent<br/>\n",
    "> Time & Space Function<br/>\n",
    "\n",
    "### Posteriori Testing\n",
    "> Program<br/>\n",
    "> Language dependent<br/>\n",
    "> Hardware dependent<br/>\n",
    "> Watch time & bytes<br/>"
   ]
  },
  {
   "cell_type": "markdown",
   "metadata": {},
   "source": [
    "## Priori Analysis and Posteriori Testing\n",
    "### Priori Analysis\n",
    "> Algorithm<br/>\n",
    "> Independent of Language<br/>\n",
    "> Hardware Independent<br/>\n",
    "> Time & Space Function<br/>\n",
    "\n",
    "### Posteriori Testing\n",
    "> Program<br/>\n",
    "> Language dependent<br/>\n",
    "> Hardware dependent<br/>\n",
    "> Watch time & bytes<br/>"
   ]
  },
  {
   "cell_type": "markdown",
   "metadata": {},
   "source": [
    "## Priori Analysis and Posteriori Testing\n",
    "### Priori Analysis\n",
    "> Algorithm<br/>\n",
    "> Independent of Language<br/>\n",
    "> Hardware Independent<br/>\n",
    "> Time & Space Function<br/>\n",
    "\n",
    "### Posteriori Testing\n",
    "> Program<br/>\n",
    "> Language dependent<br/>\n",
    "> Hardware dependent<br/>\n",
    "> Watch time & bytes<br/>"
   ]
  },
  {
   "cell_type": "markdown",
   "metadata": {},
   "source": [
    "## Characteristic of Algorithm\n",
    "> Input<br/>\n",
    "> Output<br/>\n",
    "> Definiteness<br/>\n",
    "> Finiteness<br/>\n",
    "> Effectiveness<br/>"
   ]
  },
  {
   "cell_type": "markdown",
   "metadata": {},
   "source": [
    "## How to Analyze an Algorithm\n",
    "> Time<br/>\n",
    "> Space<br/>\n",
    "> N/W (Network consumption)<br/>\n",
    "> Power consumption<br/>\n",
    "> CPU Register consuming<br/>"
   ]
  },
  {
   "cell_type": "markdown",
   "metadata": {},
   "source": [
    "## Frequency Count Method\n",
    "> Time complexity: f(n)<br/> Space complexity: S(n)<br/>\n",
    "> Big O"
   ]
  },
  {
   "cell_type": "markdown",
   "metadata": {},
   "source": [
    "## Time Complexity\n",
    "Examples of O(n):\n",
    "```c++\n",
    "for (int i = 0; i < n; ++i) {\n",
    "    statements();\n",
    "}\n",
    "\n",
    "for (int i = n; i > 0; --i) {\n",
    "    statements();\n",
    "}\n",
    "\n",
    "for (int i = 0; i < n; i += 20) {\n",
    "    statements();\n",
    "}\n",
    "```\n",
    "Something like a single loop and the increment is a constant.<br/><br/>\n",
    "Examples of $ O(n^2) $:\n",
    "```c++\n",
    "for (int i = 0; i < n; ++i) {\n",
    "    for (int j = 0; j < n; ++j) {\n",
    "        statements();\n",
    "    }\n",
    "}\n",
    "\n",
    "for (int i = 0; i < n; ++i) {\n",
    "    for (int j = 0; j < i; ++j) {\n",
    "        statements();\n",
    "    }\n",
    "} // total execution time: 0 + 1 + 2 + 3 + ... + n = n*(n + 1) / 2\n",
    "```\n",
    "Examples of $ O (\\sqrt(n)) $:\n",
    "```c++\n",
    "int p = 0;\n",
    "for (int i = 2; p <= n; ++i) {\n",
    "    statements();\n",
    "    p += i;\n",
    "}\n",
    "// p = k(k + 1) / 2 > n, so k > n^(1/2)\n",
    "\n",
    "for (int i = 0; i * i < n; ++i) {\n",
    "    statements();\n",
    "}\n",
    "```\n",
    "Examples of O(log<sub>x</sub><sup>n</sup>):\n",
    "```c++\n",
    "for (int i = 1; i < n; i*= 2) {\n",
    "    statements();\n",
    "}\n",
    "\n",
    "for (int i = n; i >= 1; i /= 2) {\n",
    "    statements();\n",
    "}\n",
    "```"
   ]
  },
  {
   "cell_type": "code",
   "execution_count": null,
   "metadata": {},
   "outputs": [],
   "source": [
    "## Analysis of if & while\n"
   ]
  }
 ],
 "metadata": {
  "kernelspec": {
   "display_name": "C++14",
   "language": "C++14",
   "name": "xcpp14"
  },
  "language_info": {
   "codemirror_mode": "text/x-c++src",
   "file_extension": ".cpp",
   "mimetype": "text/x-c++src",
   "name": "c++",
   "version": "-std=c++14"
  }
 },
 "nbformat": 4,
 "nbformat_minor": 4
}
