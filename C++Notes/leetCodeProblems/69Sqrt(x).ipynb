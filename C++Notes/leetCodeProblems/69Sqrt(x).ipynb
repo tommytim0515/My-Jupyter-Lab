{
 "cells": [
  {
   "cell_type": "markdown",
   "metadata": {},
   "source": [
    "# Problem 69 Sqrt(x)\n",
    "## Question\n",
    "mplement int sqrt(int x).<br/>\n",
    "Compute and return the square root of x, where x is guaranteed to be a non-negative integer.<br/>\n",
    "Since the return type is an integer, the decimal digits are truncated and only the integer part of the result is returned.<br/>\n"
   ]
  },
  {
   "cell_type": "markdown",
   "metadata": {},
   "source": [
    "My Problem: integer variable may overflow when dealing with large variables. And it is kinda brute force because it always starts searching from 0."
   ]
  },
  {
   "cell_type": "markdown",
   "metadata": {},
   "source": [
    "## Key Points\n",
    "### "
   ]
  }
 ],
 "metadata": {
  "kernelspec": {
   "display_name": "C++14",
   "language": "C++14",
   "name": "xcpp14"
  },
  "language_info": {
   "codemirror_mode": "text/x-c++src",
   "file_extension": ".cpp",
   "mimetype": "text/x-c++src",
   "name": "c++",
   "version": "-std=c++14"
  }
 },
 "nbformat": 4,
 "nbformat_minor": 4
}
