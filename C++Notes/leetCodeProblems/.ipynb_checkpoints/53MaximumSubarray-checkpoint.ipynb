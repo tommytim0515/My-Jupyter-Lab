{
 "cells": [
  {
   "cell_type": "markdown",
   "metadata": {},
   "source": [
    "# Problem 53 Maximum Subarray\n",
    "## Question\n",
    "Given an integer array num, find the contiguous subarray (containing at least one number) which has the largest sum and return its sum."
   ]
  },
  {
   "cell_type": "markdown",
   "metadata": {},
   "source": [
    "My problem: time limit exceeded when dealing with big array because of the use of nested loops. (By brute force solution, time complexity: $O(n^2)$)."
   ]
  },
  {
   "cell_type": "markdown",
   "metadata": {},
   "source": [
    "## Key Points \n",
    "__Divide and Conquer DP Optimization__:\n",
    "The essential of DP optimization is to find the proper sub problem of the problem.<br/>\n",
    "__BUD__: \n",
    "when optimizing algorithms, we need to consider the bottlenecks, unecessary work and the duplicate work of an algorithm."
   ]
  },
  {
   "cell_type": "markdown",
   "metadata": {},
   "source": [
    "\n",
    "## Soluton: Kadane's algorithm <br/>\n",
    "To find the maxium subarray ending at a certain index:\n",
    "```c++\n",
    "int a[10] = {1, 4, 3, -2, 0, 3, -8, -3, 3, 4};\n",
    "```\n",
    "The maximum of index 0 is the a[0] itself, and the maximum of index 2 is 1 + 4 + 3. In general, at each index, we have two choices: one is the item at the index itself, and the other is itself plus the contiguous maximum subarray before it."
   ]
  },
  {
   "cell_type": "markdown",
   "metadata": {},
   "source": [
    "## My solution:"
   ]
  },
  {
   "cell_type": "code",
   "execution_count": 3,
   "metadata": {},
   "outputs": [],
   "source": [
    "#include <vector>\n",
    "using namespace std;\n",
    "\n",
    "class Solution {\n",
    "    public:\n",
    "        int maxSubArray(vector<int>& nums) {\n",
    "            if (nums.size() == 0)\n",
    "                return 0;\n",
    "            int pre = nums[0], cur;\n",
    "            int maximum = nums[0];\n",
    "            for (int i = 1; i < nums.size(); ++i) {\n",
    "                cur = nums[i];\n",
    "                if (pre > 0)\n",
    "                    cur += pre;\n",
    "                if (maximum < cur)\n",
    "                    maximum = cur;\n",
    "            }\n",
    "            return maximum;\n",
    "        }\n",
    "}"
   ]
  },
  {
   "cell_type": "markdown",
   "metadata": {},
   "source": [
    "## Best Voted Solution:\n",
    "### [C++] A Clear O(n) Divide and Conquer Solution with Commets\n",
    "For each subarray, calculate four attributs:<br/>\n",
    "> mx (largest sum of this subarray)<br/>\n",
    "> lmx (largest sum stating from the left most element)<br/>\n",
    "> rmx (largest sum ending with he right most element)<br/>\n",
    "> sum (the sum of the total subarray)<br/>\n",
    "\n",
    "The recurrence is: T(n) = 2T(n / 2) + O(1)"
   ]
  },
  {
   "cell_type": "code",
   "execution_count": null,
   "metadata": {},
   "outputs": [],
   "source": [
    "class VotedSolution {\n",
    "    public:\n",
    "        void maxSubarray(vector<int>& nums, int l, int r, int& mx, int& lmx, int& rmx, int& sum) {\n",
    "            if (r == 1){\n",
    "                mx = lmx = rmx = sum = nums[l];\n",
    "            } else {\n",
    "                int m = (1 + r) / 2;\n",
    "                int mx1, lmx1, rmx1, sum1;\n",
    "                int mx2, lmx2, rmx2, sum2;\n",
    "                maxSubArray(nums, 1, m, mx1, rmx1, sum1);\n",
    "                maxSubArray(nums, m + 1, r, mx2, lmx2, rmx2, sum2);\n",
    "                mx = max(max(mx1, mx2), rmx1 + lmx2);\n",
    "                lmx = max(lmx1, sum1 + lmx2);\n",
    "                rmx = max(rmx2, sum2 + rmx1);\n",
    "                sum = sum1 + sum2;\n",
    "            }\n",
    "        }\n",
    "        it maxSubArray(vecetor<int>& nums) {\n",
    "            if (nums.size() == 0) {\n",
    "                return 0;\n",
    "            }\n",
    "            int mx, lmx, rmx, sum;\n",
    "            maxSubArray(nums, 0, mus.size() - 1, mx, lmx, rmx, sum);\n",
    "            reeturn mx;\n",
    "        }\n",
    "}"
   ]
  },
  {
   "cell_type": "code",
   "execution_count": null,
   "metadata": {},
   "outputs": [],
   "source": []
  }
 ],
 "metadata": {
  "kernelspec": {
   "display_name": "C++14",
   "language": "C++14",
   "name": "xcpp14"
  },
  "language_info": {
   "codemirror_mode": "text/x-c++src",
   "file_extension": ".cpp",
   "mimetype": "text/x-c++src",
   "name": "c++",
   "version": "-std=c++14"
  }
 },
 "nbformat": 4,
 "nbformat_minor": 4
}
