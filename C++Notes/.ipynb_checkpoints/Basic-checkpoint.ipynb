{
 "cells": [
  {
   "cell_type": "markdown",
   "metadata": {},
   "source": [
    "__Compilation__: Each source file is compiled seperately, they only reference header files. The compile object files will be combined by a linker, to an elf file."
   ]
  },
  {
   "cell_type": "markdown",
   "metadata": {},
   "source": [
    "__GNU Make__: We define dependency for each file, iff its dependency is changed, it would execute some script (usually to compile it).<br/>\n",
    "ELF file -> object files -> source files and header files -> Makefile rules  ('->' means depends on)<br/>\n",
    "So it can be used to do incremental build."
   ]
  },
  {
   "cell_type": "markdown",
   "metadata": {},
   "source": [
    "__C funtions__ have the same symbol name (for linker) as same function names.<br/>\n",
    "C++ due to namespace, class and overloading, the symbol names will be mangled, which contain namespace and type information.<br/>\n",
    "To interop (call one from another) C and C++ functions, we have to tell the compiler not to mangle some functions. This is done by marking them extern \"C\"."
   ]
  },
  {
   "cell_type": "markdown",
   "metadata": {},
   "source": [
    "__OOP__: It is all about abstraction.<br/>\n",
    "- Seperate implementation from interface: so others won't depend on your implementation,and you can change it later.\n",
    "- Encapsulation: hide internal states, so others would not mess with them.\n",
    "- Polymorphism: To simplify the design by unifying the inferface. Allow the same function to work with different types. (Generic)\n",
    "- Composition/Inheritance: for code reuse, you get an object by composing different interface or inherit a base class. Inheritnace is limited to class-based )), and is not recommended nowadays due to tight compling (dependency between parent and child class), but you can use it here.<br/> We usually say inheritance is a 'is a' relationship, but composition as a 'has a ' relationship. Compositions are usually interfaces or abstract class (with neraly no functionalitires alone)<br/> Animals -> Human -> Tom (inheritance)<br/> C# + JavaScript + Rust + John (Composition, has such functionalities)\n"
   ]
  },
  {
   "cell_type": "markdown",
   "metadata": {},
   "source": [
    "### Polymorphism in C++\n",
    "__Static__: Compile time, no runtime information<br/>\n",
    "__Dynamic__: Require runtime information, cannot provide compile-time guarantee.<br/>\n",
    "Object of different classes, generally have different sizes.<br/>\n",
    "For polymorphic code, that may use the derived class of a type, use pointers or reference as the size may vary. Derived class instances are layer than base class instances. (or equal), and not statically available. (due to the language design, in general the compiler is unable to know all the possible derived class of a certain type)<br/>\n",
    "Virtual functions are implemented through Virtual Method Tables."
   ]
  },
  {
   "cell_type": "code",
   "execution_count": null,
   "metadata": {},
   "outputs": [],
   "source": []
  }
 ],
 "metadata": {
  "kernelspec": {
   "display_name": "C++14",
   "language": "C++14",
   "name": "xcpp14"
  },
  "language_info": {
   "codemirror_mode": "text/x-c++src",
   "file_extension": ".cpp",
   "mimetype": "text/x-c++src",
   "name": "c++",
   "version": "-std=c++14"
  }
 },
 "nbformat": 4,
 "nbformat_minor": 4
}
