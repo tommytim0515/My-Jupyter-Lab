{
 "cells": [
  {
   "cell_type": "markdown",
   "metadata": {},
   "source": [
    "__Compilation__: Each source file is compiled seperately, they only reference header files. The compile object files will be combined by a linker, to an elf file."
   ]
  },
  {
   "cell_type": "markdown",
   "metadata": {},
   "source": [
    "__GNU Make__: We define dependency for each file, iff its dependency is changed, it would execute some script (usually to compile it).<br/>\n",
    "ELF file -> object files -> source files and header files -> Makefile rules  ('->' means depends on)<br/>\n",
    "So it can be used to do incremental build."
   ]
  },
  {
   "cell_type": "markdown",
   "metadata": {},
   "source": [
    "__C funtions__ have the same symbol name (for linker) as same function names.<br/>\n",
    "C++ due to namespace, class and overloading, the symbol names will be mangled, which contain namespace and type information.<br/>\n",
    "To interop (call one from another) C and C++ functions, we have to tell the compiler not to mangle some functions. This is done by marking them extern \"C\"."
   ]
  },
  {
   "cell_type": "code",
   "execution_count": null,
   "metadata": {},
   "outputs": [],
   "source": [
    "__OOP__: It is all about abstraction.<br/>\n"
   ]
  }
 ],
 "metadata": {
  "kernelspec": {
   "display_name": "C++14",
   "language": "C++14",
   "name": "xcpp14"
  },
  "language_info": {
   "name": ""
  }
 },
 "nbformat": 4,
 "nbformat_minor": 4
}
