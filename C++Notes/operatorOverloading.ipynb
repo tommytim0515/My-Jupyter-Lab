{
 "cells": [
  {
   "cell_type": "markdown",
   "metadata": {},
   "source": [
    "# Operator Overloading\n",
    "Most programming languages have operators which allow us to mimic the mathematical notations. However, many languages only have operators defined for the build-in types.\n",
    "C++ is an excepting: it allows you to re-use most, but not all, of its operators and re-define them for new user-difned types."
   ]
  },
  {
   "cell_type": "code",
   "execution_count": 1,
   "metadata": {},
   "outputs": [],
   "source": [
    "/* File: vector0.h */\n",
    "// Add Vectos by a Global Add() Function\n",
    "#include <iostream>\n",
    "using namespace std;\n",
    "class Vector\n",
    "{\n",
    "    public:\n",
    "        Vector(double a = 0, double b = 0) : x(a), y(b) {}\n",
    "        double getx() const { return x; }\n",
    "        double gety() const { return y; }\n",
    "        void print() const { cout << \"(\" << x << \" , \" << y << \")\\n\"; }\n",
    "    private:\n",
    "        double x, y;\n",
    "}"
   ]
  },
  {
   "cell_type": "code",
   "execution_count": 2,
   "metadata": {},
   "outputs": [],
   "source": [
    "/* File: vector0-add.cpp */\n",
    "#include <iostream>\n",
    "//#include <vector0.h>\n",
    "Vector add(const Vector& a, const Vector& b)\n",
    "{\n",
    "    return Vector(a.getx() + b.getx(), a.gety() + b.gety());\n",
    "}"
   ]
  },
  {
   "cell_type": "code",
   "execution_count": 3,
   "metadata": {},
   "outputs": [],
   "source": [
    "/* File: main.cpp */\n",
    "int main()\n",
    "{\n",
    "    Vector a(1, 3), b(-5, 7), c(22), d;\n",
    "    d = add(add(b,c), c); d.print(); // d = a + b + c\n",
    "}"
   ]
  },
  {
   "cell_type": "markdown",
   "metadata": {},
   "source": [
    "## Global Non-member Operator+ Function\n",
    "C++ Allows you to do that by simply replacing the name of the function add by operator+."
   ]
  },
  {
   "cell_type": "markdown",
   "metadata": {},
   "source": [
    "```c++\n",
    "#include <iostream> /* File: vector0-op-add.cpp */\n",
    "#inlcude \"vector0.h\"\n",
    "\n",
    "Vector operator+(const Vector& a, const Vector& b)\n",
    "{\n",
    "    return Vector(a.getx() + b.getx(), a.gety() + b.gety());\n",
    "}\n",
    "\n",
    "int main()\n",
    "{\n",
    "    Vecot a(1, 3), b(-5, 7), c(22), d;\n",
    "    d = a + b + c; cout << \"vector + vector: a + b + c = \";\n",
    "    d.print();\n",
    "    \n",
    "    d = b + 1.0; cout << \"vector + scalar: b + 1.0 = \";\n",
    "    d.print();\n",
    "    \n",
    "    d = 8.2 + a; cout << \"scalar + vector: 8.2 + a = \";\n",
    "    d.print();\n",
    "```"
   ]
  },
  {
   "cell_type": "markdown",
   "metadata": {},
   "source": [
    "## Operator Funtion Syntax\n",
    "operator+ is a formal function name that can be used like any other function name.<br/>\n",
    "The operator + has a formal name, namely operator+ (consisting of 2 keywords), and a \"ncikname\", namely +."
   ]
  },
  {
   "cell_type": "markdown",
   "metadata": {},
   "source": [
    "## Operator Syntax ...\n",
    "The nickname can only be used when calling the funciton. <br/>\n",
    "The formal name can be used in any context, when declaring the function, defining it, calling it, or taking its address. <br/>\n",
    "there is nothing that you can do with operators that cannot be done with ordinary functions. In other words, operators are just syntactic sugar. <br/>"
   ]
  },
  {
   "cell_type": "markdown",
   "metadata": {},
   "source": [
    "## C++ Operators\n",
    "Almost all operators in C++ can be overloaded except:<br/>\n",
    "<p>., &nbsp&nbsp&nbsp ::, &nbsp&nbsp&nbsp ?:, &nbsp&nbsp&nbsp .*<p/> \n",
    "The C++ parser is fixed. That means that you can only re-define existing operators, and you cannot define new operators (using new symbols). <br/>\n",
    "Nor can you change the following properties of an operator:<br/>\n",
    "Arity: the number of arguments an operator takes. <br/>\n",
    "Associativity: e.g. a + b + c is always identical to (a + b) + c.\n",
    "Precedence: which operator is done first."
   ]
  },
  {
   "cell_type": "markdown",
   "metadata": {},
   "source": [
    "## C++ Operators: Member or Non-member Functions\n",
    "All C++ operators already have predefined meaning for the build-in types. It is impossible to change their meaning.<br/>\n",
    "You can only overloading operators for your own (user-defined) classes (such as Vector in the example) with new meanings. <br/>\n",
    "Every operator function you define mst implicitly have at least one argument ofa user-defined class type. <br/>\n",
    "You may define a (new) operator function as a memer function of a new class, or as global non-member function. <br/>\n"
   ]
  },
  {
   "cell_type": "code",
   "execution_count": null,
   "metadata": {},
   "outputs": [],
   "source": []
  }
 ],
 "metadata": {
  "kernelspec": {
   "display_name": "C++14",
   "language": "C++14",
   "name": "xcpp14"
  },
  "language_info": {
   "codemirror_mode": "text/x-c++src",
   "file_extension": ".cpp",
   "mimetype": "text/x-c++src",
   "name": "c++",
   "version": "-std=c++14"
  }
 },
 "nbformat": 4,
 "nbformat_minor": 4
}
