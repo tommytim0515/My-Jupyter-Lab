{
 "cells": [
  {
   "cell_type": "markdown",
   "metadata": {},
   "source": [
    "# Operator Overloading\n",
    "Most programming languages have operators which allow us to mimic the mathematical notations. However, many languages only have operators defined for the build-in types.\n",
    "C++ is an excepting: it allows you to re-use most, but not all, of its operators and re-define them for new user-difned types."
   ]
  },
  {
   "cell_type": "code",
   "execution_count": 1,
   "metadata": {},
   "outputs": [],
   "source": [
    "/* File: vector0.h */\n",
    "// Add Vectos by a Global Add() Function\n",
    "#include <iostream>\n",
    "using namespace std;\n",
    "class Vector\n",
    "{\n",
    "    public:\n",
    "        Vector(double a = 0, double b = 0) : x(a), y(b) {}\n",
    "        double getx() const { return x; }\n",
    "        double gety() const { return y; }\n",
    "        void print() const { cout << \"(\" << x << \" , \" << y << \")\\n\"; }\n",
    "    private:\n",
    "        double x, y;\n",
    "}"
   ]
  },
  {
   "cell_type": "code",
   "execution_count": 2,
   "metadata": {},
   "outputs": [],
   "source": [
    "/* File: vector0-add.cpp */\n",
    "#include <iostream>\n",
    "//#include <vector0.h>\n",
    "Vector add(const Vector& a, const Vector& b)\n",
    "{\n",
    "    return Vector(a.getx() + b.getx(), a.gety() + b.gety());\n",
    "}"
   ]
  },
  {
   "cell_type": "code",
   "execution_count": 3,
   "metadata": {},
   "outputs": [],
   "source": [
    "/* File: main.cpp */\n",
    "int main()\n",
    "{\n",
    "    Vector a(1, 3), b(-5, 7), c(22), d;\n",
    "    d = add(add(b,c), c); d.print(); // d = a + b + c\n",
    "}"
   ]
  },
  {
   "cell_type": "markdown",
   "metadata": {},
   "source": [
    "# Global Non-member Operator+ Function\n",
    "C++ Allows you to do that by simply replacing the name of the function add by operator+."
   ]
  },
  {
   "cell_type": "code",
   "execution_count": null,
   "metadata": {},
   "outputs": [],
   "source": [
    "#include <iostream>\n",
    "#include "
   ]
  }
 ],
 "metadata": {
  "kernelspec": {
   "display_name": "C++14",
   "language": "C++14",
   "name": "xcpp14"
  },
  "language_info": {
   "codemirror_mode": "text/x-c++src",
   "file_extension": ".cpp",
   "mimetype": "text/x-c++src",
   "name": "c++",
   "version": "-std=c++14"
  }
 },
 "nbformat": 4,
 "nbformat_minor": 4
}
