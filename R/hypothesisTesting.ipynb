{
 "cells": [
  {
   "cell_type": "markdown",
   "metadata": {},
   "source": [
    "## Intro to Hypothesis Testing in Statistics-Hypothesis Testing Statistics Problems & Examples"
   ]
  },
  {
   "cell_type": "markdown",
   "metadata": {},
   "source": [
    "__Hypothesis__ - A premise or claim that we want to test. <br/>\n",
    "__Null Hypothesis__ - H<sub>0</sub> - Currently accepted value for a parameter. <br/>\n",
    "__Alternative Hypothesis__ - H<sub>a</sub> - Also called researcj hypothesis. Invovles the claim to be tested.<br/>\n"
   ]
  },
  {
   "cell_type": "markdown",
   "metadata": {},
   "source": [
    "__Example__: It is believed that a candy machine makes chocolate bars that are on average 5g. A worker claims that the machine after maintenance on longer makes 5g bars. <br/>\n",
    "__H<sub>0</sub>__: u = 5g. <br/>\n",
    "__H<sub>a</sub>__: u != 5g <br/>\n"
   ]
  },
  {
   "cell_type": "markdown",
   "metadata": {},
   "source": [
    "Null Hypothesis and alternative hypothesis are mathematically opposite."
   ]
  },
  {
   "cell_type": "code",
   "execution_count": null,
   "metadata": {},
   "outputs": [],
   "source": []
  }
 ],
 "metadata": {
  "kernelspec": {
   "display_name": "R",
   "language": "R",
   "name": "ir"
  },
  "language_info": {
   "codemirror_mode": "r",
   "file_extension": ".r",
   "mimetype": "text/x-r-source",
   "name": "R",
   "pygments_lexer": "r",
   "version": "3.6.1"
  }
 },
 "nbformat": 4,
 "nbformat_minor": 4
}
